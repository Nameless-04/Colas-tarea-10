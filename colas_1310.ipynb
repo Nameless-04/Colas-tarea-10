{
  "nbformat": 4,
  "nbformat_minor": 0,
  "metadata": {
    "colab": {
      "name": "colas_1310.ipynb",
      "provenance": []
    },
    "kernelspec": {
      "name": "python3",
      "display_name": "Python 3"
    },
    "language_info": {
      "name": "python"
    }
  },
  "cells": [
    {
      "cell_type": "code",
      "metadata": {
        "id": "RP8ud97vH698"
      },
      "source": [
        "class Queue:\n",
        "    def __init__(self ):\n",
        "        self.data = []\n",
        "\n",
        "\n",
        "    def is_empty ( self):\n",
        "        return len (self.data) == 0\n",
        "\n",
        "    def length(self ):\n",
        "        return len (self.data)\n",
        "\n",
        "    def enqueue(self, value):\n",
        "        self.data.append(value)\n",
        "\n",
        "    def degueue( self ):\n",
        "        return self.data.pop(0)\n",
        "\n",
        "    def to_string( self ):\n",
        "        for elem in self.data:\n",
        "            print(f\"| { elem } | <---\" , end=\"\")\n",
        "        print(\"\")\n",
        "\n",
        "\n"
      ],
      "execution_count": 96,
      "outputs": []
    },
    {
      "cell_type": "code",
      "metadata": {
        "colab": {
          "base_uri": "https://localhost:8080/"
        },
        "id": "WMmpQfczMidz",
        "outputId": "0ed2a74b-3e82-4db3-d3d3-440d45e9c8a5"
      },
      "source": [
        "#help(list.pop)\n",
        "cola =  Queue()\n",
        "print( \" esta vacio? \" , cola.is_empty())\n",
        "print(\"numero de elemntos = \" , cola.length())\n",
        "cola.enqueue(10)\n",
        "cola.enqueue(20)\n",
        "cola.enqueue(30)\n",
        "print( \" esta vacio? \" , cola.is_empty())\n",
        "print(\"numero de elemntos = \" , cola.length())\n",
        "cola.enqueue(40)\n",
        "cola.enqueue(50)\n",
        "cola.enqueue(60)\n",
        "cola.to_string()\n",
        "siguiente = cola.degueue()\n",
        "print(\"atendiendo a:\" , siguiente)\n",
        "cola.to_string()\n"
      ],
      "execution_count": 97,
      "outputs": [
        {
          "output_type": "stream",
          "name": "stdout",
          "text": [
            " esta vacio?  True\n",
            "numero de elemntos =  0\n",
            " esta vacio?  False\n",
            "numero de elemntos =  3\n",
            "| 10 | <---| 20 | <---| 30 | <---| 40 | <---| 50 | <---| 60 | <---\n",
            "atendiendo a: 10\n",
            "| 20 | <---| 30 | <---| 40 | <---| 50 | <---| 60 | <---\n"
          ]
        }
      ]
    },
    {
      "cell_type": "markdown",
      "metadata": {
        "id": "VH1T5tEPQjOu"
      },
      "source": [
        "# Variantes del ADT Cola\n",
        "1. Circulares \n",
        "2. Prioridad, donde esten: \n",
        "  1. acotada\n",
        "  2. no acotada"
      ]
    },
    {
      "cell_type": "code",
      "metadata": {
        "id": "Tkk-JQDRjnXA"
      },
      "source": [
        "# Colas con prioridad no acotada\n",
        "class PriorityQueue():\n",
        "    def __init__(self):\n",
        "        self.data = []\n",
        "        self.index = []\n",
        "\n",
        "    def is_empty( self ):\n",
        "        return len(self.data) == 0\n",
        "\n",
        "    def length(self):\n",
        "        return len(self.data)\n",
        "\n",
        "    def enqueue( self, prioridad , elem ):\n",
        "        if len(self.data) == 0 :\n",
        "            self.data.append(elem)\n",
        "            self.index.append(prioridad)\n",
        "        elif prioridad >= self.index[-1]:\n",
        "            self.data.append(elem)\n",
        "            self.index.append(prioridad)\n",
        "        else :\n",
        "            calcu = 0\n",
        "            for elemento in self.index:\n",
        "                if prioridad >= elemento:\n",
        "                    calcu += 1\n",
        "            self.data.insert(calcu, elem)\n",
        "            self.index.insert(calcu, prioridad)\n",
        "       \n",
        "\n",
        "    def dequeue( self):\n",
        "        self.index.pop(0)\n",
        "        return self.data.pop(0)\n",
        "       \n",
        "    def to_string( self ):\n",
        "        calcu = 0\n",
        "        for elem in self.data:\n",
        "\n",
        "            print(f\" prioridad -->| {self.index[calcu], elem } | \", end=\"\")\n",
        "            calcu += 1\n",
        "        print(\"\")\n",
        "\n",
        "    "
      ],
      "execution_count": 103,
      "outputs": []
    },
    {
      "cell_type": "code",
      "metadata": {
        "colab": {
          "base_uri": "https://localhost:8080/"
        },
        "id": "84T3Ri3zsIjI",
        "outputId": "d2d01e37-3fd8-46c1-ea7a-9a49501af6b9"
      },
      "source": [
        "colaa = PriorityQueue()\n",
        "print(\"esta vacia ? \" , colaa.is_empty())\n",
        "print(\" nuemro de elementos = \" , colaa.length())\n",
        "\n",
        "\n",
        "colaa.enqueue( 4 ,\"Maestre\")\n",
        "colaa.enqueue( 2 ,\"Niños\")\n",
        "colaa.enqueue( 4 ,\"Mecanico\")\n",
        "colaa.enqueue( 3 ,\"Hombres\")\n",
        "colaa.enqueue( 4 ,\"Vigia\")\n",
        "colaa.enqueue( 5 ,\"Capitan\")\n",
        "colaa.enqueue( 4 ,\"Timonel\")\n",
        "colaa.enqueue( 3 ,\"Mujeres\")\n",
        "colaa.enqueue( 2 ,\"3ra edad\")\n",
        "colaa.enqueue( 1 ,\"Niñas\")\n",
        "\n",
        "\n",
        "colaa.to_string()\n",
        "print(\" la cola esta vacia ? \", colaa.is_empty())\n",
        "colaa.to_string()\n",
        "\n",
        "colaa.dequeue()\n",
        "colaa.to_string()\n"
      ],
      "execution_count": 104,
      "outputs": [
        {
          "output_type": "stream",
          "name": "stdout",
          "text": [
            "esta vacia ?  True\n",
            " nuemro de elementos =  0\n",
            " prioridad -->| (1, 'Niñas') |  prioridad -->| (2, 'Niños') |  prioridad -->| (2, '3ra edad') |  prioridad -->| (3, 'Hombres') |  prioridad -->| (3, 'Mujeres') |  prioridad -->| (4, 'Maestre') |  prioridad -->| (4, 'Mecanico') |  prioridad -->| (4, 'Vigia') |  prioridad -->| (4, 'Timonel') |  prioridad -->| (5, 'Capitan') | \n",
            " la cola esta vacia ?  False\n",
            " prioridad -->| (1, 'Niñas') |  prioridad -->| (2, 'Niños') |  prioridad -->| (2, '3ra edad') |  prioridad -->| (3, 'Hombres') |  prioridad -->| (3, 'Mujeres') |  prioridad -->| (4, 'Maestre') |  prioridad -->| (4, 'Mecanico') |  prioridad -->| (4, 'Vigia') |  prioridad -->| (4, 'Timonel') |  prioridad -->| (5, 'Capitan') | \n",
            " prioridad -->| (2, 'Niños') |  prioridad -->| (2, '3ra edad') |  prioridad -->| (3, 'Hombres') |  prioridad -->| (3, 'Mujeres') |  prioridad -->| (4, 'Maestre') |  prioridad -->| (4, 'Mecanico') |  prioridad -->| (4, 'Vigia') |  prioridad -->| (4, 'Timonel') |  prioridad -->| (5, 'Capitan') | \n"
          ]
        }
      ]
    },
    {
      "cell_type": "code",
      "metadata": {
        "id": "vtJ9yiy0XvhW"
      },
      "source": [
        "# Colas con prioridad acotada\n",
        "class Queue:\n",
        "    def __init__(self ):\n",
        "        self.data = []\n",
        "\n",
        "\n",
        "    def is_empty ( self):\n",
        "        return len (self.data) == 0\n",
        "\n",
        "    def length(self ):\n",
        "        return len (self.data)\n",
        "\n",
        "    def enqueue(self, value):\n",
        "        self.data.append(value)\n",
        "\n",
        "    def degueue( self ):\n",
        "        return self.data.pop(0)\n",
        "\n",
        "    def to_string( self ):\n",
        "        for elem in self.data:\n",
        "            print(f\"| { elem } | <---\" , end=\"\")\n",
        "        print(\"\")\n"
      ],
      "execution_count": 105,
      "outputs": []
    },
    {
      "cell_type": "code",
      "metadata": {
        "id": "lB16W5R-aSoI"
      },
      "source": [
        "class BoundedPriorityQueue :\n",
        "    def __init__(self, levels) :\n",
        "        self.data = [Queue() for n in range(levels)]\n",
        "        self.levels = levels\n",
        "        self.size = 0\n",
        "    \n",
        "    def is_empty(self) :\n",
        "        return len(self.data) \n",
        "    \n",
        "    def length(self) :\n",
        "        return len(self.data) == 0\n",
        "\n",
        "    def enqueue(self, prioridad, elem):\n",
        "        if prioridad < 0 or prioridad > self.levels:\n",
        "            print(\"la prioridad no es valida\")\n",
        "        else:\n",
        "            self.data[prioridad - 1].enqueue( elem )\n",
        "            self.size += 1\n",
        "\n",
        "    def dequeue(self ):\n",
        "        if self.size != 0:\n",
        "            cola = 0\n",
        "            while self.data[cola].is_empty():  \n",
        "                cola += 1\n",
        "            self.size -= 1\n",
        "            return self.data[cola].dequeue()\n",
        "        else:\n",
        "            print(\"La cola esta vacía, no se puede sacar nada\")\n",
        "\n",
        "\n",
        "    def to_string( self ):\n",
        "        for elem in self.data:\n",
        "            print(f\"| { elem } | <---\" , end=\"\")\n",
        "        print(\"\")\n",
        "\n",
        "\n"
      ],
      "execution_count": 168,
      "outputs": []
    },
    {
      "cell_type": "code",
      "metadata": {
        "colab": {
          "base_uri": "https://localhost:8080/"
        },
        "id": "f6JrBpVQnr5W",
        "outputId": "769f4973-de89-4649-cfdc-2a4d4194d30f"
      },
      "source": [
        "colaAcotada = BoundedPriorityQueue(8)\n",
        "\n",
        "print(\"esta vacia ? \" , colaAcotada.is_empty())\n",
        "print(\" nuemro de elementos = \" , colaAcotada.length())\n",
        "\n",
        "\n",
        "colaAcotada.enqueue( 4 ,\"Maestre\")\n",
        "colaAcotada.enqueue( 2 ,\"Niños\")\n",
        "colaAcotada.enqueue( 4 ,\"Mecanico\")\n",
        "colaAcotada.enqueue( 3 ,\"Hombres\")\n",
        "colaAcotada.enqueue( 4 ,\"Vigia\")\n",
        "colaAcotada.enqueue( 5 ,\"Capitan\")\n",
        "colaAcotada.enqueue( 4 ,\"Timonel\")\n",
        "colaAcotada.enqueue( 3 ,\"Mujeres\")\n",
        "colaAcotada.enqueue( 2 ,\"3ra edad\")\n",
        "colaAcotada.enqueue( 1 ,\"Niñas\")\n",
        "colaAcotada.to_string()\n",
        "print(\" la cola esta vacia ? \", colaAcotada.is_empty())\n",
        "colaAcotada.to_string()\n"
      ],
      "execution_count": 173,
      "outputs": [
        {
          "output_type": "stream",
          "name": "stdout",
          "text": [
            "esta vacia ?  8\n",
            " nuemro de elementos =  False\n",
            "| <__main__.Queue object at 0x7f09d74b1a10> | <---| <__main__.Queue object at 0x7f09d74b1c50> | <---| <__main__.Queue object at 0x7f09d74b1710> | <---| <__main__.Queue object at 0x7f09d74b13d0> | <---| <__main__.Queue object at 0x7f09d74b1b50> | <---| <__main__.Queue object at 0x7f09d74b1090> | <---| <__main__.Queue object at 0x7f09d74b1fd0> | <---| <__main__.Queue object at 0x7f09d74b1750> | <---\n",
            " la cola esta vacia ?  8\n",
            "| <__main__.Queue object at 0x7f09d74b1a10> | <---| <__main__.Queue object at 0x7f09d74b1c50> | <---| <__main__.Queue object at 0x7f09d74b1710> | <---| <__main__.Queue object at 0x7f09d74b13d0> | <---| <__main__.Queue object at 0x7f09d74b1b50> | <---| <__main__.Queue object at 0x7f09d74b1090> | <---| <__main__.Queue object at 0x7f09d74b1fd0> | <---| <__main__.Queue object at 0x7f09d74b1750> | <---\n"
          ]
        }
      ]
    }
  ]
}